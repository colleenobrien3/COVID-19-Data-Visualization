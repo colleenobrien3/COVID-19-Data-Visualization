{
 "cells": [
  {
   "cell_type": "code",
   "execution_count": 1,
   "metadata": {},
   "outputs": [
    {
     "name": "stderr",
     "output_type": "stream",
     "text": [
      "/Users/colleenobrien/.pyenv/versions/3.8.0/lib/python3.8/site-packages/pandas/compat/__init__.py:117: UserWarning: Could not import the lzma module. Your installed Python is incomplete. Attempting to use lzma compression will result in a RuntimeError.\n",
      "  warnings.warn(msg)\n"
     ]
    }
   ],
   "source": [
    "import seaborn as sns\n",
    "import pandas as pd\n",
    "from matplotlib import pyplot as plt\n",
    "%matplotlib inline"
   ]
  },
  {
   "cell_type": "code",
   "execution_count": 2,
   "metadata": {},
   "outputs": [],
   "source": [
    "dc = pd.read_json('data.txt', encoding='unicode_escape')"
   ]
  },
  {
   "cell_type": "code",
   "execution_count": 3,
   "metadata": {},
   "outputs": [
    {
     "data": {
      "text/html": [
       "<div>\n",
       "<style scoped>\n",
       "    .dataframe tbody tr th:only-of-type {\n",
       "        vertical-align: middle;\n",
       "    }\n",
       "\n",
       "    .dataframe tbody tr th {\n",
       "        vertical-align: top;\n",
       "    }\n",
       "\n",
       "    .dataframe thead th {\n",
       "        text-align: right;\n",
       "    }\n",
       "</style>\n",
       "<table border=\"1\" class=\"dataframe\">\n",
       "  <thead>\n",
       "    <tr style=\"text-align: right;\">\n",
       "      <th></th>\n",
       "      <th>name</th>\n",
       "      <th>total_cases</th>\n",
       "      <th>new_cases</th>\n",
       "      <th>total_deaths</th>\n",
       "      <th>new_deaths</th>\n",
       "      <th>total_recovered</th>\n",
       "      <th>active_cases</th>\n",
       "      <th>source</th>\n",
       "    </tr>\n",
       "  </thead>\n",
       "  <tbody>\n",
       "    <tr>\n",
       "      <th>0</th>\n",
       "      <td>New York</td>\n",
       "      <td>16,900</td>\n",
       "      <td>+1,110</td>\n",
       "      <td>150</td>\n",
       "      <td>+36</td>\n",
       "      <td></td>\n",
       "      <td>16,750</td>\n",
       "      <td>[source] [source] [source] [source] [source] [...</td>\n",
       "    </tr>\n",
       "    <tr>\n",
       "      <th>1</th>\n",
       "      <td>Washington</td>\n",
       "      <td>1,996</td>\n",
       "      <td></td>\n",
       "      <td>95</td>\n",
       "      <td></td>\n",
       "      <td>124</td>\n",
       "      <td>1,777</td>\n",
       "      <td>[source]</td>\n",
       "    </tr>\n",
       "    <tr>\n",
       "      <th>2</th>\n",
       "      <td>New Jersey</td>\n",
       "      <td>1,914</td>\n",
       "      <td></td>\n",
       "      <td>21</td>\n",
       "      <td>+1</td>\n",
       "      <td></td>\n",
       "      <td>1,893</td>\n",
       "      <td>[source] [source]</td>\n",
       "    </tr>\n",
       "    <tr>\n",
       "      <th>3</th>\n",
       "      <td>California</td>\n",
       "      <td>1,802</td>\n",
       "      <td>+47</td>\n",
       "      <td>35</td>\n",
       "      <td>+1</td>\n",
       "      <td>6</td>\n",
       "      <td>1,761</td>\n",
       "      <td>[source] [source]</td>\n",
       "    </tr>\n",
       "    <tr>\n",
       "      <th>4</th>\n",
       "      <td>Illinois</td>\n",
       "      <td>1,049</td>\n",
       "      <td></td>\n",
       "      <td>9</td>\n",
       "      <td></td>\n",
       "      <td>2</td>\n",
       "      <td>1,038</td>\n",
       "      <td>[source]</td>\n",
       "    </tr>\n",
       "  </tbody>\n",
       "</table>\n",
       "</div>"
      ],
      "text/plain": [
       "         name total_cases new_cases total_deaths new_deaths total_recovered  \\\n",
       "0    New York      16,900    +1,110          150        +36                   \n",
       "1  Washington       1,996                     95                        124   \n",
       "2  New Jersey       1,914                     21         +1                   \n",
       "3  California       1,802       +47           35         +1               6   \n",
       "4    Illinois       1,049                      9                          2   \n",
       "\n",
       "  active_cases                                             source  \n",
       "0       16,750  [source] [source] [source] [source] [source] [...  \n",
       "1        1,777                                           [source]  \n",
       "2        1,893                                  [source] [source]  \n",
       "3        1,761                                  [source] [source]  \n",
       "4        1,038                                           [source]  "
      ]
     },
     "execution_count": 3,
     "metadata": {},
     "output_type": "execute_result"
    }
   ],
   "source": [
    "dc.head()"
   ]
  },
  {
   "cell_type": "code",
   "execution_count": null,
   "metadata": {},
   "outputs": [],
   "source": []
  }
 ],
 "metadata": {
  "kernelspec": {
   "display_name": "Python 3",
   "language": "python",
   "name": "python3"
  },
  "language_info": {
   "codemirror_mode": {
    "name": "ipython",
    "version": 3
   },
   "file_extension": ".py",
   "mimetype": "text/x-python",
   "name": "python",
   "nbconvert_exporter": "python",
   "pygments_lexer": "ipython3",
   "version": "3.8.0"
  }
 },
 "nbformat": 4,
 "nbformat_minor": 4
}
